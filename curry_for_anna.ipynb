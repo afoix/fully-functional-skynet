{
 "cells": [
  {
   "cell_type": "markdown",
   "metadata": {},
   "source": [
    "For the neuron, we defined some functions like these:"
   ]
  },
  {
   "cell_type": "code",
   "execution_count": 1,
   "metadata": {},
   "outputs": [],
   "source": [
    "dot x y = sum $ zipWith(*) x y"
   ]
  },
  {
   "cell_type": "code",
   "execution_count": 4,
   "metadata": {},
   "outputs": [],
   "source": [
    "neuron weights byas activation inputs = let b = dot weights inputs + byas in \n",
    "                                        activation b"
   ]
  },
  {
   "cell_type": "code",
   "execution_count": 5,
   "metadata": {},
   "outputs": [],
   "source": [
    "reLU x = if x < 0 then 0 else x"
   ]
  },
  {
   "cell_type": "markdown",
   "metadata": {},
   "source": [
    "When we used the `neuron` function we used it like this:"
   ]
  },
  {
   "cell_type": "code",
   "execution_count": 7,
   "metadata": {},
   "outputs": [],
   "source": [
    "mineneuron = neuron [1] 0 reLU"
   ]
  },
  {
   "cell_type": "markdown",
   "metadata": {},
   "source": [
    "If you count the parameters for `neuron` you see that there are 4: `weights`, `byas`, `activation`, and `inputs`. But when we use it in the definition of `mineneuron`, we have only given it 3 inputs: `[1]`, `0`, and `reLU`. How is it that we can call a function but not give it all the arguments it needs?\n",
    "\n",
    "This is called 'partial function application' or 'currying.' What happens is that when you don't provide all the arguments to a function, then what that evaluates to is *a new function* which is 'the original function but with these arguments already set up.'\n",
    "\n",
    "_gameboo note: in fact, the way I generally think of this in Haskell is that every identifier refers to a function of some amount of arguments. Any time function application is used, the result is a function of one fewer argument. And in the case where you shrink this to a function of one argument which you then apply, you get back a function of zero arguments, a.k.a. a constant. The type system can tell you off if the next provided argument's type does not match the next expected argument type, or if the arity does not match (i.e. you get an error if you try to apply a constant... But you cant still think of it as a function... nice simple general way to look at the wo :p)_\n",
    "\n",
    "when we used the `mineneuron` function after that, we used it like this:"
   ]
  },
  {
   "cell_type": "code",
   "execution_count": 10,
   "metadata": {},
   "outputs": [
    {
     "data": {
      "text/plain": [
       "0"
      ]
     },
     "metadata": {},
     "output_type": "display_data"
    },
    {
     "data": {
      "text/plain": [
       "1"
      ]
     },
     "metadata": {},
     "output_type": "display_data"
    },
    {
     "data": {
      "text/plain": [
       "0"
      ]
     },
     "metadata": {},
     "output_type": "display_data"
    }
   ],
   "source": [
    "mineneuron [0]\n",
    "mineneuron [1]\n",
    "mineneuron [-1]"
   ]
  },
  {
   "cell_type": "markdown",
   "metadata": {},
   "source": [
    "Here we are supplying the 'missing' fourth input. These calls are the same as doing:"
   ]
  },
  {
   "cell_type": "code",
   "execution_count": 7,
   "metadata": {},
   "outputs": [],
   "source": [
    "neuron [1] 0 reLU [0]\n",
    "neuron [1] 0 reLU [1]\n",
    "neuron [1] 0 reLU [-1]"
   ]
  },
  {
   "cell_type": "markdown",
   "metadata": {},
   "source": [
    "because what we defined is `mineneuron = neuron [1] 0 reLU` - we can substitute `neuron [1] 0 reLU` for `mineneuron` exactly like in algebra."
   ]
  }
 ],
 "metadata": {
  "kernelspec": {
   "display_name": "Haskell - haskell",
   "language": "haskell",
   "name": "ihaskell_haskell"
  },
  "language_info": {
   "codemirror_mode": "ihaskell",
   "file_extension": ".hs",
   "name": "haskell",
   "pygments_lexer": "Haskell",
   "version": "8.4.4"
  }
 },
 "nbformat": 4,
 "nbformat_minor": 2
}
